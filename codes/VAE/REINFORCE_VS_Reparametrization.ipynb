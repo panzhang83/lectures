{
 "cells": [
  {
   "cell_type": "markdown",
   "metadata": {},
   "source": [
    "# Reparameterization Trick\n",
    "Following https://gokererdogan.github.io/2016/07/01/reparameterization-trick/"
   ]
  },
  {
   "cell_type": "markdown",
   "metadata": {},
   "source": [
    "Considering a normal distribution with mean $\\mu$ and unit variance, $q_{\\mu}(x) = N(\\mu,1)$, and we want to adjust $\\theta$ for optimizing the second moment\n",
    "\n",
    "$\n",
    "\\hat\\mu=\\arg\\min_{\\mu} \\mathcal L(\\mu)=\\arg\\min_{\\mu}\\mathbb E_q[x^2]\n",
    "$\n",
    "\n",
    "Apparently, analytically we have $\\nabla_\\mu\\mathcal L=\\nabla_\\mu(\\mu^2+1)=2\\mu$.\n",
    "\n",
    "But we want to compare numerical computation of this quantity using both REINFORCE and the Reparametrization method.\n",
    "\n",
    "For the REINFORMCE algorithm, we have \n",
    "\n",
    "$\\nabla_\\mu\\mathcal L=\\mathbb E_q(x^2\\nabla_\\mu\\log q(x))=\\mathbb E_q(x^2(x-\\mu))=\\mathbb E_q(x^3-x^2\\mu))=\\mu^3+3\\mu-\\mu(\\mu^2+1)=2\\mu$\n",
    "\n",
    "One way to keep the expectation of gradients, while reduce the variance of the gradients is add a *baseline* which is not a function of $x$. A very simple approach is use the mean such that\n",
    "\n",
    "$\\nabla_\\mu\\mathcal L=\\mathbb E_q([x^2-\\mathbb E_q(x^2)]\\nabla_\\mu\\log q(x))=\\mathbb E_q([x^2-\\mathbb E_q(x^2)](x-\\mu))=2\\mu$\n",
    "\n",
    "For the reparametrization,\n",
    "$\n",
    "x = \\mu + \\epsilon, \\quad \\epsilon \\sim \\mathcal{N}(0,1)\n",
    "$\n",
    "\n",
    "Then we have\n",
    "$\\nabla_\\mu\\mathcal L=\\nabla_\\mu\\mathbb E_{\\mathcal N(0,1)} (\\mu+\\epsilon)^2=\\mathbb E_{\\mathcal N(0,1)}\\nabla_\\mu (\\mu+\\epsilon)^2=\\mathbb E_{\\mathcal N(0,1)}[2(\\mu+\\epsilon)]=2\\mu$\n",
    "\n",
    "Let have some impression on the gradient estimate given by three methods by comparing them on a single instance:"
   ]
  },
  {
   "cell_type": "code",
   "execution_count": 9,
   "metadata": {},
   "outputs": [
    {
     "name": "stdout",
     "output_type": "stream",
     "text": [
      "grad of REINFORCE= 4.097396172279478\n",
      "grad of REINFORCE + baseline= 4.01904525710015\n",
      "grad of Reparametrization =  4.031061372628896\n"
     ]
    }
   ],
   "source": [
    "import numpy as np\n",
    "N = 1000\n",
    "theta = 2.0\n",
    "eps = np.random.randn(N)\n",
    "x = theta + eps\n",
    "\n",
    "grad1 = lambda x: np.sum(np.square(x)*(x-theta)) / x.size\n",
    "grad2 = lambda eps: np.sum(2*(theta + eps)) / x.size\n",
    "grad3 = lambda x: np.sum((np.square(x)-np.sum(np.square(x))/x.size)*(x-theta)) / x.size\n",
    "\n",
    "print(\"grad of REINFORCE=\",grad1(x))\n",
    "print(\"grad of REINFORCE + baseline=\",grad3(x))\n",
    "print(\"grad of Reparametrization = \",grad2(eps))\n"
   ]
  },
  {
   "cell_type": "markdown",
   "metadata": {},
   "source": [
    "Let us check the variance for different sample sizes."
   ]
  },
  {
   "cell_type": "code",
   "execution_count": 8,
   "metadata": {},
   "outputs": [
    {
     "name": "stdout",
     "output_type": "stream",
     "text": [
      "[4.55637839 4.10093377 4.03974593 3.98094517 4.00103464]\n",
      "[4.11529199 4.02050707 3.99739092 3.99746569 3.99969491]\n",
      "[3.89359207 3.98636754 4.01466151 3.99127621 4.00268074]\n",
      "[1.54686336e+01 9.41211946e-01 1.28511151e-01 8.85848125e-03\n",
      " 8.06813959e-04]\n",
      "[3.18476310e-01 3.68889932e-02 3.64861942e-03 2.92998741e-04\n",
      " 2.77811917e-05]\n",
      "[7.63648618e+00 4.21657403e-01 5.56574377e-02 3.59091375e-03\n",
      " 3.74900223e-04]\n"
     ]
    }
   ],
   "source": [
    "Ns = [10, 100, 1000, 10000, 100000]\n",
    "reps = 100\n",
    "\n",
    "means1 = np.zeros(len(Ns))\n",
    "vars1 = np.zeros(len(Ns))\n",
    "means2 = np.zeros(len(Ns))\n",
    "means3 = np.zeros(len(Ns))\n",
    "vars2 = np.zeros(len(Ns))\n",
    "vars3 = np.zeros(len(Ns))\n",
    "\n",
    "est1 = np.zeros(reps)\n",
    "est2 = np.zeros(reps)\n",
    "est3 = np.zeros(reps)\n",
    "for i, N in enumerate(Ns):\n",
    "    for r in range(reps):\n",
    "        x = np.random.randn(N) + theta\n",
    "        est1[r] = grad1(x)\n",
    "        est3[r] = grad3(x)\n",
    "        eps = np.random.randn(N)\n",
    "        est2[r] = grad2(eps)\n",
    "    means1[i] = np.mean(est1)\n",
    "    means2[i] = np.mean(est2)\n",
    "    means3[i] = np.mean(est3)\n",
    "    vars1[i] = np.var(est1)\n",
    "    vars2[i] = np.var(est2)\n",
    "    vars3[i] = np.var(est3)\n",
    "    \n",
    "print(means1)\n",
    "print(means2)\n",
    "print(means3)\n",
    "print\n",
    "print (vars1)\n",
    "print (vars2)\n",
    "print (vars3)"
   ]
  },
  {
   "cell_type": "code",
   "execution_count": 3,
   "metadata": {},
   "outputs": [
    {
     "data": {
      "text/plain": [
       "<matplotlib.legend.Legend at 0x7f37274374a8>"
      ]
     },
     "execution_count": 3,
     "metadata": {},
     "output_type": "execute_result"
    },
    {
     "data": {
      "image/png": "[encoded data removed]",
      "text/plain": [
       "<Figure size 432x288 with 1 Axes>"
      ]
     },
     "metadata": {},
     "output_type": "display_data"
    }
   ],
   "source": [
    "%matplotlib inline\n",
    "import matplotlib.pyplot as plt\n",
    "\n",
    "plt.plot(np.log10(Ns),vars1)\n",
    "plt.plot(np.log10(Ns),vars3)\n",
    "plt.plot(np.log10(Ns),vars2)\n",
    "\n",
    "#plt.plot(vars1)\n",
    "#plt.plot(vars2)\n",
    "plt.legend(['REINFORCE', 'REINFORCE+Variance reduction (mean)','Reparametrization'])"
   ]
  },
  {
   "cell_type": "markdown",
   "metadata": {},
   "source": [
    "Variance of the estimates using reparameterization trick is one order of magnitude smaller than the estimates from the first method!"
   ]
  }
 ],
 "metadata": {
  "kernelspec": {
   "display_name": "Python 3",
   "language": "python",
   "name": "python3"
  },
  "language_info": {
   "codemirror_mode": {
    "name": "ipython",
    "version": 3
   },
   "file_extension": ".py",
   "mimetype": "text/x-python",
   "name": "python",
   "nbconvert_exporter": "python",
   "pygments_lexer": "ipython3",
   "version": "3.6.8"
  }
 },
 "nbformat": 4,
 "nbformat_minor": 1
}
