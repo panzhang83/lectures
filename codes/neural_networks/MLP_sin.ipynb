{
 "cells": [
  {
   "cell_type": "code",
   "execution_count": 514,
   "metadata": {
    "scrolled": true
   },
   "outputs": [],
   "source": [
    "import torch\n",
    "\n",
    "class Linear(object):\n",
    "    \"\"\"\n",
    "    a = Wx + b \n",
    "    Attributes: \n",
    "       params (list): W and b, with dimension [N_in,N_out] and [N_out]\n",
    "       grad (list): gradients with respect to W and b.\n",
    "    \"\"\"\n",
    "    def __init__(self,N_in,N_out,dtype=torch.float64,device=torch.device(\"cpu\")):\n",
    "        self.scale=0.001\n",
    "        self.params=[torch.randn(N_in,N_out,dtype=dtype,device=device)*self.scale,torch.randn(N_out,dtype=dtype,device=device)*self.scale]\n",
    "        self.grad = [torch.zeros(self.params[0].shape,dtype=dtype,device=device),torch.zeros(self.params[1].shape,dtype=dtype,device=device)]\n",
    "    \n",
    "    def forward(self,x): # x.shape = batch,Nin       return W' * x + b with shape batch,N_out\n",
    "        self.x = x\n",
    "        self.y = x@self.params[0] + self.params[1]\n",
    "        return self.y\n",
    "    \n",
    "    def backward(self,delta): # delta.shape = batch, N_out  return W*delta with shape batch, N_in\n",
    "        self.grad[0] = self.x.t() @ delta # summing over the batch dimension!  [N_in, N_out]\n",
    "        self.grad[1] = torch.sum(delta,dim=0) # [N_out]\n",
    "        return delta @ self.params[0].t() # [batch,N_out] * [N_out,N_in] = [batch, N_in]\n",
    "\n",
    "class Sigmoid(object):\n",
    "    \"\"\"\n",
    "    Sigmoid activation function, which returns 1./(1+exp(x))\n",
    "    \"\"\"\n",
    "    def forward(self,x):\n",
    "        self.y = 1/(1+torch.exp(-x)) # element wise operations\n",
    "        return self.y # [ batch, N_in]\n",
    "    def backward(self,delta):\n",
    "        return delta*( (1-self.y) * self.y)\n",
    "    \n",
    "class Tanh(object):\n",
    "    \"\"\"\n",
    "    Tanh activation function, which returns (exp(x)-exp(-x))/(exp(x)+exp(-x))\n",
    "    \"\"\"\n",
    "    def forward(self,x):\n",
    "        self.y = (torch.exp(x)-torch.exp(-x))/(torch.exp(x)+torch.exp(-x)) # element wise operations\n",
    "        return self.y # [ batch, N_in]\n",
    "    def backward(self,delta):\n",
    "        return delta*( 1-self.y*self.y)\n",
    "    \n",
    "class Relu(object):\n",
    "    \"\"\"\n",
    "    Relu function\n",
    "    \"\"\"\n",
    "    def forward(self,x):\n",
    "        return x*x\n",
    "        \n",
    "        \n",
    "    def backward(self,delta):\n",
    "        # As a test, fill the code by yourself\n",
    "        return delta\n",
    "        \n",
    "    \n",
    "class Sequential(object):\n",
    "    def __init__(self,layers):\n",
    "        self.layers=layers\n",
    "        self.params = [list(l.params) if hasattr(l, 'params') else [] for l in self.layers]\n",
    "        self.grad = [list(l.grad) if hasattr(l, 'grad') else [] for l in self.layers]\n",
    "\n",
    "    def forward(self,x):\n",
    "        for l in self.layers:\n",
    "            x = l.forward(x)\n",
    "        return x\n",
    "    \n",
    "    def backward(self,delta):\n",
    "        delta = 1.0\n",
    "        for l in self.layers[::-1]:\n",
    "            delta = l.backward(delta)\n",
    "        return delta\n",
    "        \n",
    "class MSE(object):\n",
    "    \"\"\" Mean Square Error\n",
    "        Forward: input is a matrix y of shape [batch,n_in], output is a scalar E=\\sum_{ij} (y_{ij}-t_{ij})^2 / (N_in*batch)\n",
    "        Backward: input is a scalr dL/dE, output is dE/dy\n",
    "    \"\"\"\n",
    "    def __init__(self,t):\n",
    "        self.t=t # target\n",
    "        \n",
    "    def forward(self,y):\n",
    "        self.y=y\n",
    "        return ( (self.y-self.t)**2).mean() \n",
    "    \n",
    "    def backward(self, delta): # delta is a scalar\n",
    "        return 2.0*delta*(self.y-self.t)/torch.numel(self.y)\n",
    "\n",
    "class Softmax(object):\n",
    "    \"\"\"\n",
    "    compute softmax of input x\n",
    "    Forward: input x in [batch, K], output is [batch, K]\n",
    "    Backward: \n",
    "    \"\"\"\n",
    "    def forward(self,x):\n",
    "        self.y = torch.exp(x - torch.logsumexp(x,dim=1,keepdim=True))\n",
    "        return self.y\n",
    "    \n",
    "    def backward(self,delta):\n",
    "        # notice the batch reliazation using batched matrix multiplications\n",
    "        return -self.y*(self.y[:,None,:] @ delta[:,:,None]).view([self.y.shape[0],1])+self.y*delta\n",
    "        \n",
    "class CrossEntropy(object):\n",
    "    \"\"\"\n",
    "    This assumes that y and t are two distributions\n",
    "    \"\"\"\n",
    "    def __init__(self,t):\n",
    "        self.t=t # target, assumed to be a distribution among dimension 1\n",
    "    \n",
    "    def forward(self,y):\n",
    "        self.y=y\n",
    "        print(torch.log(y)*t)\n",
    "        return -torch.sum(torch.log(y)*t) # total negative log likelihood\n",
    "    \n",
    "    def backward(self,delta): # delta should be a scalar, usually 1\n",
    "        return -delta*self.t/self.y\n"
   ]
  },
  {
   "cell_type": "markdown",
   "metadata": {},
   "source": [
    "### Check gradients with respect to input and compare it with the perturbation method"
   ]
  },
  {
   "cell_type": "code",
   "execution_count": 515,
   "metadata": {
    "scrolled": true
   },
   "outputs": [
    {
     "name": "stdout",
     "output_type": "stream",
     "text": [
      "tensor([ 7.6994e-07,  4.1066e-06, -3.8574e-06,  5.5375e-07,  1.4494e-06,\n",
      "        -3.0298e-06,  1.5741e-06,  5.2764e-07, -1.9321e-06, -1.7185e-06],\n",
      "       dtype=torch.float64)\n",
      "tensor([-7.0888e-09, -3.8580e-09,  5.1570e-09, -2.3814e-09, -7.2164e-09,\n",
      "         2.0706e-09, -1.2795e-08,  5.4401e-10,  9.5091e-09,  2.6146e-09],\n",
      "       dtype=torch.float64)\n",
      "Difference of gradients is 7.319e-06 \n"
     ]
    }
   ],
   "source": [
    "torch.manual_seed(1)\n",
    "batch_size=1\n",
    "N_in=10\n",
    "N_hidden=5\n",
    "N_out=1\n",
    "device=torch.device('cpu')\n",
    "dtype=torch.float64\n",
    "x = torch.randn(batch_size,N_in,dtype=dtype,device=device)\n",
    "t = torch.randn(batch_size,1,dtype=dtype,device=device)\n",
    "\n",
    "\n",
    "nn = Sequential([Linear(N_in,N_hidden),Relu(),Linear(N_hidden,N_out),MSE(t)])\n",
    "#nn = Sequential([Linear(N_in,N_hidden),Tanh(),Linear(N_hidden,N_out),MSE(t)])\n",
    "#nn = Sequential([Linear(N_in,N_hidden),Softmax(),Linear(N_hidden,N_out),MSE(t)])\n",
    "y = nn.forward(x)\n",
    "grad_x = nn.backward(1).sum(dim=0)\n",
    "grad_x_2 = torch.zeros_like(x)\n",
    "\n",
    "# check gradients with respect to input using perturbations\n",
    "epsilon=1.0e-5\n",
    "for i in range(batch_size):\n",
    "    for j in range(N_in):\n",
    "        x[i,j] += epsilon\n",
    "        a=nn.forward(x)\n",
    "        x[i,j] -= 2*epsilon\n",
    "        b=nn.forward(x)\n",
    "        grad_x_2[i,j] = ((a-b)/2/epsilon)\n",
    "        x[i,j] += epsilon\n",
    "grad_x_2 = grad_x_2.sum(dim=0)\n",
    "print(grad_x)\n",
    "print(grad_x_2)\n",
    "print(\"Difference of gradients is %.3e \"%(grad_x-grad_x_2).norm())"
   ]
  },
  {
   "cell_type": "markdown",
   "metadata": {},
   "source": [
    "### particularly check the softmax output using torch's autograd"
   ]
  },
  {
   "cell_type": "code",
   "execution_count": 478,
   "metadata": {
    "scrolled": true
   },
   "outputs": [
    {
     "name": "stdout",
     "output_type": "stream",
     "text": [
      "gradients= tensor([[ 0.0000e+00,  0.0000e+00,  0.0000e+00,  0.0000e+00,  0.0000e+00],\n",
      "        [ 0.0000e+00,  0.0000e+00,  0.0000e+00,  0.0000e+00,  0.0000e+00],\n",
      "        [ 2.7756e-17,  5.5511e-17,  6.9389e-18,  5.5511e-17,  5.5511e-17],\n",
      "        [-1.1102e-16, -8.3267e-17, -5.5511e-17, -5.5511e-17, -1.6653e-16],\n",
      "        [ 1.1102e-16,  1.7347e-18,  6.9389e-18,  6.9389e-18,  1.3878e-17],\n",
      "        [ 0.0000e+00,  0.0000e+00,  0.0000e+00,  0.0000e+00,  0.0000e+00],\n",
      "        [ 0.0000e+00,  0.0000e+00,  0.0000e+00,  0.0000e+00,  0.0000e+00],\n",
      "        [ 0.0000e+00,  0.0000e+00,  0.0000e+00,  0.0000e+00,  0.0000e+00],\n",
      "        [ 0.0000e+00,  0.0000e+00,  0.0000e+00,  0.0000e+00,  0.0000e+00],\n",
      "        [ 0.0000e+00,  0.0000e+00,  0.0000e+00,  0.0000e+00,  0.0000e+00]],\n",
      "       dtype=torch.float64)\n",
      "gradients= tensor([[ 0.0087, -0.0171, -0.0175,  0.0101,  0.0158],\n",
      "        [-0.0321,  0.0203,  0.0843, -0.0352, -0.0373],\n",
      "        [-0.0269,  0.0221, -0.0182, -0.0081,  0.0310],\n",
      "        [-0.0097, -0.0241, -0.0288, -0.0286,  0.0912],\n",
      "        [ 0.2397, -0.0101, -0.0620, -0.0604, -0.1072],\n",
      "        [-0.0534, -0.0285, -0.0402, -0.0074,  0.1294],\n",
      "        [ 0.0161, -0.0054, -0.0191, -0.0241,  0.0324],\n",
      "        [-0.0578, -0.0195,  0.1731, -0.0528, -0.0430],\n",
      "        [-0.0414, -0.0356, -0.0405,  0.1577, -0.0401],\n",
      "        [-0.0296, -0.0120, -0.0387,  0.1107, -0.0304]], dtype=torch.float64)\n",
      "x.grad= tensor([[ 0.0087, -0.0171, -0.0175,  0.0101,  0.0158],\n",
      "        [-0.0321,  0.0203,  0.0843, -0.0352, -0.0373],\n",
      "        [-0.0269,  0.0221, -0.0182, -0.0081,  0.0310],\n",
      "        [-0.0097, -0.0241, -0.0288, -0.0286,  0.0912],\n",
      "        [ 0.2397, -0.0101, -0.0620, -0.0604, -0.1072],\n",
      "        [-0.0534, -0.0285, -0.0402, -0.0074,  0.1294],\n",
      "        [ 0.0161, -0.0054, -0.0191, -0.0241,  0.0324],\n",
      "        [-0.0578, -0.0195,  0.1731, -0.0528, -0.0430],\n",
      "        [-0.0414, -0.0356, -0.0405,  0.1577, -0.0401],\n",
      "        [-0.0296, -0.0120, -0.0387,  0.1107, -0.0304]], dtype=torch.float64)\n",
      "difference= tensor(1.8321e-16, dtype=torch.float64)\n"
     ]
    }
   ],
   "source": [
    "torch.manual_seed(1)\n",
    "x=torch.randn(10,5,dtype=dtype,device=device)\n",
    "nn=Softmax()\n",
    "y=nn.forward(x)\n",
    "\n",
    "# first check that linear combination gives zero gradients\n",
    "delta = torch.ones(1,5,dtype=dtype,device=device)\n",
    "c=nn.backward(delta)\n",
    "print(\"gradients=\",c)\n",
    "\n",
    "# then compare with torch's autograd functions\n",
    "E=(y*y).sum()\n",
    "delta = 2*y\n",
    "c=nn.backward(delta)\n",
    "print(\"gradients=\",c)\n",
    "\n",
    "import torch.nn.functional as F\n",
    "x.requires_grad=True\n",
    "m=torch.nn.Softmax(1)\n",
    "y=m(x)\n",
    "E=(y*y).sum()\n",
    "#E=y.sum()\n",
    "E.backward()\n",
    "print(\"x.grad=\",x.grad)\n",
    "print(\"difference=\",(c-x.grad).norm())\n"
   ]
  },
  {
   "cell_type": "markdown",
   "metadata": {},
   "source": [
    "### particularly check the softmax + cross entropy using torch's autograd"
   ]
  },
  {
   "cell_type": "code",
   "execution_count": 509,
   "metadata": {},
   "outputs": [
    {
     "name": "stdout",
     "output_type": "stream",
     "text": [
      "tensor([[-1.2563, -0.0000, -0.0000, -0.0000, -0.0000]], dtype=torch.float64)\n",
      "E= tensor(1.2563, dtype=torch.float64)\n",
      "gradients= tensor([[-0.7153,  0.1919,  0.1563,  0.2735,  0.0935]], dtype=torch.float64)\n",
      "loss= tensor(1.2563, dtype=torch.float64, grad_fn=<NllLossBackward>)\n",
      "x.grad= tensor([[-0.7153,  0.1919,  0.1563,  0.2735,  0.0935]], dtype=torch.float64)\n",
      "difference= tensor(1.7389e-16, dtype=torch.float64)\n"
     ]
    }
   ],
   "source": [
    "torch.manual_seed(1)\n",
    "batch_size=1\n",
    "x=torch.randn(batch_size,5,dtype=dtype,device=device)\n",
    "nn=Softmax()\n",
    "t=torch.zeros(batch_size,5,dtype=dtype,device=device)\n",
    "t[:,0]=1\n",
    "ef=CrossEntropy(t)\n",
    "y=nn.forward(x)\n",
    "E=ef.forward(y)\n",
    "print(\"E=\",E)\n",
    "delta = ef.backward(1)\n",
    "delta =nn.backward(delta)\n",
    "print(\"gradients=\",delta)\n",
    "\n",
    "\n",
    "import torch.nn.functional as F\n",
    "x.requires_grad=True\n",
    "# m=torch.nn.Softmax(1)\n",
    "# y=m(x)\n",
    "# print(\"y=\",y)\n",
    "loss = torch.nn.CrossEntropyLoss()\n",
    "target = torch.zeros(batch_size, dtype=torch.long)\n",
    "L=loss(x,target)\n",
    "print(\"loss=\",L)\n",
    "L.backward()\n",
    "print(\"x.grad=\",x.grad)\n",
    "print(\"difference=\",(delta-x.grad).norm())\n"
   ]
  },
  {
   "cell_type": "markdown",
   "metadata": {},
   "source": [
    "### Review of the polynomial curve fitting problem"
   ]
  },
  {
   "cell_type": "code",
   "execution_count": 516,
   "metadata": {
    "scrolled": true
   },
   "outputs": [
    {
     "name": "stdout",
     "output_type": "stream",
     "text": [
      "Before learning, error= tensor(3.7514, dtype=torch.float64)\n"
     ]
    },
    {
     "data": {
      "image/png": "[encoded data removed]",
      "text/plain": [
       "<Figure size 432x288 with 1 Axes>"
      ]
     },
     "metadata": {},
     "output_type": "display_data"
    },
    {
     "name": "stdout",
     "output_type": "stream",
     "text": [
      "After gradient descent learning, error= 5.713e-01\n",
      "Press any key to continue\n",
      "Before learning, error= tensor(2.1198, dtype=torch.float64)\n",
      "After gradient descent learning, error= 4.131e-01\n"
     ]
    },
    {
     "data": {
      "image/png": "[encoded data removed]",
      "text/plain": [
       "<Figure size 432x288 with 1 Axes>"
      ]
     },
     "metadata": {},
     "output_type": "display_data"
    }
   ],
   "source": [
    "import math\n",
    "%matplotlib inline\n",
    "import matplotlib.pyplot as plt\n",
    "\n",
    "torch.manual_seed(1)\n",
    "batch_size=10\n",
    "N_in=1\n",
    "N_out=1\n",
    "device=torch.device('cpu')\n",
    "dtype=torch.float64\n",
    "x = torch.linspace(0, 1, batch_size, requires_grad=False,dtype=dtype,device=device).view(batch_size,1)\n",
    "t = torch.sin(2*math.pi*x).view(batch_size,1)\n",
    "\n",
    "M=5\n",
    "Phi = torch.DoubleTensor( [ [j**i for i in range(M) ] for j in x  ] )\n",
    "y1=Phi@torch.inverse(Phi.t()@Phi)@Phi.t()@t\n",
    "\n",
    "w = torch.randn(M,1,dtype=dtype,device=device)\n",
    "y = Phi@w \n",
    "\n",
    "\n",
    "lr=0.05\n",
    "print(\"Before learning, error=\",(y-t).norm())\n",
    "\n",
    "for epoch in range(5000):\n",
    "    w = w - lr * Phi.t()@(Phi@w-t)   # the gradients\n",
    "    y = Phi@w \n",
    "\n",
    "plt.plot(x.detach().numpy(), t.detach().numpy(), 'bo', label='Data')\n",
    "plt.plot(x.detach().numpy(), y.detach().numpy(), 'r-', label='Polynomial, gradients, E=%.3f'%(y-t).norm())\n",
    "plt.plot(x.detach().numpy(), y1.detach().numpy(), 'g-', label='Polynomial, optimal, E=%.3f'%(y1-t).norm())\n",
    "plt.legend(loc=1)\n",
    "plt.show()\n",
    "\n",
    "print(\"After gradient descent learning, error= %.3e\"%(y-t).norm())\n",
    "input(\"Press any key to continue\")\n",
    "\n",
    "nn = Sequential([Linear(M,N_out),MSE(t)])\n",
    "E = nn.forward(Phi)\n",
    "nn.backward(1)\n",
    "\n",
    "lr=0.1\n",
    "y = nn.layers[0].y\n",
    "print(\"Before learning, error=\",(y-t).norm())\n",
    "for epoch in range(20000):\n",
    "    for l in nn.layers:\n",
    "        if hasattr(l, 'params'):\n",
    "            for i in range(len(l.params)):\n",
    "                l.params[i] = l.params[i] - lr * l.grad[i]\n",
    "    y = nn.layers[0].y\n",
    "    E = nn.forward(Phi)\n",
    "    nn.backward(1)\n",
    "print(\"After gradient descent learning, error= %.3e\"%(y-t).norm())\n",
    "plt.ion()\n",
    "plt.plot(x.detach().numpy(), t.detach().numpy(), 'bo', label='Data')\n",
    "plt.plot(x.detach().numpy(), y.detach().numpy(), 'r-', label='Polynomial, auto gradients, E=%.3f'%(y-t).norm())\n",
    "plt.legend(loc=1)\n",
    "plt.draw()\n",
    "    "
   ]
  },
  {
   "cell_type": "markdown",
   "metadata": {},
   "source": [
    "### Fitting the sin function using a MLP"
   ]
  },
  {
   "cell_type": "code",
   "execution_count": 517,
   "metadata": {},
   "outputs": [
    {
     "name": "stdout",
     "output_type": "stream",
     "text": [
      "Before learning, error= 2.121e+00\n",
      "After learning, error= 3.080e-02\n"
     ]
    },
    {
     "data": {
      "image/png": "[encoded data removed]",
      "text/plain": [
       "<Figure size 432x288 with 1 Axes>"
      ]
     },
     "metadata": {},
     "output_type": "display_data"
    }
   ],
   "source": [
    "import math\n",
    "%matplotlib inline\n",
    "import matplotlib.pyplot as plt\n",
    "\n",
    "torch.manual_seed(1)\n",
    "batch_size=10\n",
    "N_in=1\n",
    "N_hidden=5\n",
    "N_out=1\n",
    "device=torch.device('cpu')\n",
    "dtype=torch.float64\n",
    "nn = Sequential([Linear(N_in,N_hidden),Tanh(),Linear(N_hidden,N_out),MSE(t)])\n",
    "E = nn.forward(x)\n",
    "y = nn.layers[2].y\n",
    "nn.backward(1)\n",
    "lr=0.1\n",
    "print(\"Before learning, error= %.3e\"%(y-t).norm())\n",
    "for epoch in range(20000):\n",
    "    for l in nn.layers:\n",
    "        if hasattr(l, 'params'):\n",
    "            for i in range(len(l.params)):\n",
    "                l.params[i] = l.params[i] - lr * l.grad[i]\n",
    "    E = nn.forward(x)\n",
    "    y = nn.layers[2].y\n",
    "    nn.backward(1)\n",
    "print(\"After learning, error= %.3e\"%(y-t).norm())\n",
    "plt.plot(x.detach().numpy(), t.detach().numpy(), 'bo', label='Data')\n",
    "plt.plot(x.detach().numpy(), y.detach().numpy(), 'r-', label='MLP, gradients, E=%.3f'%(y-t).norm())\n",
    "plt.legend(loc=1)\n",
    "plt.show()"
   ]
  },
  {
   "cell_type": "code",
   "execution_count": null,
   "metadata": {},
   "outputs": [],
   "source": []
  }
 ],
 "metadata": {
  "kernelspec": {
   "display_name": "Python 3",
   "language": "python",
   "name": "python3"
  },
  "language_info": {
   "codemirror_mode": {
    "name": "ipython",
    "version": 3
   },
   "file_extension": ".py",
   "mimetype": "text/x-python",
   "name": "python",
   "nbconvert_exporter": "python",
   "pygments_lexer": "ipython3",
   "version": "3.6.8"
  }
 },
 "nbformat": 4,
 "nbformat_minor": 2
}
